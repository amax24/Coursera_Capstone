{
    "cells": [
        {
            "cell_type": "markdown",
            "metadata": {
                "collapsed": true
            },
            "source": "this notebook will be mainly used for the capstone project"
        },
        {
            "cell_type": "code",
            "execution_count": 1,
            "metadata": {},
            "outputs": [],
            "source": "import pandas as pd"
        },
        {
            "cell_type": "code",
            "execution_count": 2,
            "metadata": {},
            "outputs": [],
            "source": "import numpy as np"
        },
        {
            "cell_type": "code",
            "execution_count": 3,
            "metadata": {},
            "outputs": [
                {
                    "name": "stdout",
                    "output_type": "stream",
                    "text": "Hello Capstone Project Course!\n"
                }
            ],
            "source": "print(\"Hello Capstone Project Course!\")"
        },
        {
            "cell_type": "markdown",
            "metadata": {},
            "source": "<H1> THE FUTURE OF TOURISM IN SCOTLAND </H1>"
        },
        {
            "cell_type": "markdown",
            "metadata": {},
            "source": "IBM Applied Data Science Capstone Project <br>\nBy Abbey MacFarlane "
        },
        {
            "cell_type": "markdown",
            "metadata": {},
            "source": "<h1>INTRODUCTION</h1>"
        },
        {
            "cell_type": "markdown",
            "metadata": {},
            "source": "Every year, millions of tourists flock to Scotland, UK for many different reasons including city breaks, road trips and tracing ancestral routes.\n\nAs there is such a wide variety of attractions to the small country, it would be advantageous for the travel & tourism industry to know exactly where in Scotland they should be advertising based on the preferences of their target demographic.\n\nIn this presentation I will analyze existing data from Foursquare, Wikipedia and the Scottish government website to show where might be the most profitable location for tourists in Scotland based on individual preferences to aid in a marketing campaign.\n\n"
        },
        {
            "cell_type": "markdown",
            "metadata": {},
            "source": "<H2>BUSINESS PROBLEM</H2>"
        },
        {
            "cell_type": "markdown",
            "metadata": {},
            "source": "A travel company are wanting to launch a marketing campaign for holidaying in Scotland. Since the attractions of Scotland are so diverse, they want to make sure that they can target the right audience, through the right channels, with the right destination to maximize their profits."
        },
        {
            "cell_type": "markdown",
            "metadata": {},
            "source": "<H3>TARGET AUDIENCE</H3>"
        },
        {
            "cell_type": "markdown",
            "metadata": {},
            "source": "Airlines, package holiday companies and other travel and tourism businesses."
        },
        {
            "cell_type": "markdown",
            "metadata": {},
            "source": "<H1>DATA</H1>"
        },
        {
            "cell_type": "markdown",
            "metadata": {},
            "source": "I will be using the following datasets for analysis:<BR>\n1-\tVisits and expenditure figures on tourism in Scotland from 2013 \u2013 2019<BR>\n2-\tA List of Towns and Cities in Scotland by Population<BR>\n3-\tLocation and Venue data using the Foursquare API in Glasgow and Edinburgh based on:<BR>\n\u2022\tMuseums<BR>\n\u2022\tFootball Stadiums<BR>\n\u2022\tNightclubs<BR>\n"
        },
        {
            "cell_type": "markdown",
            "metadata": {},
            "source": "<H2>SOURCE AND METHODS OF EXTRACTION</H2>"
        },
        {
            "cell_type": "markdown",
            "metadata": {},
            "source": "1-\tThe Tourism Figures for Scotland were downloadable in CSV format from  <BR>\nhttps://statistics.gov.scot/slice?dataset=http%3A%2F%2Fstatistics.gov.scot%2Fdata%2Ftourism-day-visits---location <BR>\n\n2-\tA table from Wikipedia web-scraped and presented using the BeautifulSoup package.<BR>\n\n3-\tVenue data retrieved from the Foursquare API"
        },
        {
            "cell_type": "code",
            "execution_count": null,
            "metadata": {},
            "outputs": [],
            "source": ""
        },
        {
            "cell_type": "code",
            "execution_count": null,
            "metadata": {},
            "outputs": [],
            "source": ""
        },
        {
            "cell_type": "code",
            "execution_count": null,
            "metadata": {},
            "outputs": [],
            "source": ""
        },
        {
            "cell_type": "code",
            "execution_count": null,
            "metadata": {},
            "outputs": [],
            "source": ""
        }
    ],
    "metadata": {
        "kernelspec": {
            "display_name": "Python 3.6",
            "language": "python",
            "name": "python3"
        },
        "language_info": {
            "codemirror_mode": {
                "name": "ipython",
                "version": 3
            },
            "file_extension": ".py",
            "mimetype": "text/x-python",
            "name": "python",
            "nbconvert_exporter": "python",
            "pygments_lexer": "ipython3",
            "version": "3.6.9"
        }
    },
    "nbformat": 4,
    "nbformat_minor": 1
}